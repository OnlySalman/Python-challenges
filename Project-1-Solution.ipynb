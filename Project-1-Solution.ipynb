{
 "cells": [
  {
   "cell_type": "markdown",
   "metadata": {},
   "source": [
    "\n",
    "# Project 1: Python Coding Exercises\n",
    "\n",
    "_Authors: Joseph Nelson (DC)_\n",
    "\n",
    "<br>\n",
    "---\n",
    "---\n",
    "<br>\n",
    "<br>"
   ]
  },
  {
   "cell_type": "markdown",
   "metadata": {},
   "source": [
    "### Challenge 1: Largest Palindrome\n",
    "A palindromic number reads the same both ways. For example, 1234321 is a palindrome. The largest palindrome made from the product of two two-digit numbers is 9009 = 91 × 99. Find the largest palindrome made from the product of two three-digit numbers. Afterward, write a brief explanation walking through your code's logic in markdown."
   ]
  },
  {
   "cell_type": "code",
   "execution_count": 1,
   "metadata": {
    "scrolled": true
   },
   "outputs": [],
   "source": [
    "def findingLargestPalindrome():\n",
    "    max_result = 0 ;\n",
    "    for i in range(100,1000):\n",
    "        for j in range(100,1000):\n",
    "            result = i * j \n",
    "            if  str(result) == str(result)[::-1]:\n",
    "                if result > max_result:\n",
    "                    max_result = result\n",
    "    return max_result            \n",
    "                \n",
    "\n"
   ]
  },
  {
   "cell_type": "markdown",
   "metadata": {},
   "source": [
    "### What does this code do?\n",
    "\n",
    "#### This code workes in these flowing steps:\n",
    "1. iterate through each number from 100-1000\n",
    "2. multiple each number with every number from this margin 100-1000.\n",
    "3. if the resulting number is a palindrome and then it's assigned to the result.\n",
    "4. if the number which comes next is a palindrome and it's greater then the previous palindrome then it's assigned to the outcome.\n",
    "5. the result is returned."
   ]
  },
  {
   "cell_type": "markdown",
   "metadata": {},
   "source": [
    "<br>\n",
    "<hr>\n",
    "<hr>\n",
    "<br>"
   ]
  },
  {
   "cell_type": "markdown",
   "metadata": {},
   "source": [
    "\n",
    "### Challenge 2: Summation of Primes\n",
    "The sum of the primes below 10 is 2 + 3 + 5 + 7 = 17. Find the sum of all the primes below 2,000. Afterward, write a brief explanation walking through your code's logic in markdown."
   ]
  },
  {
   "cell_type": "code",
   "execution_count": 2,
   "metadata": {
    "scrolled": true
   },
   "outputs": [],
   "source": [
    "def isitaPrime(x):\n",
    "    for i in range(2,x-1):\n",
    "        if x % i == 0:\n",
    "            return False\n",
    "    return True\n",
    "\n",
    "def prime_sum():\n",
    "    sum = 0 ; \n",
    "    for i in range(2,2000):\n",
    "        if isitaPrime(i):\n",
    "            sum = sum+i\n",
    "    return sum\n",
    "\n"
   ]
  },
  {
   "cell_type": "markdown",
   "metadata": {},
   "source": [
    "##### First off we must start by defining a prime number \"Any number that only accepts division by itself and 1 \" is a prime number \n",
    "Now, what does the code do?\n",
    "The function `isitaPrime(int)` takes an integer as an argument, return `True` if it's a prime and `False` otherwise.\n",
    "\n",
    "We call `isitaPrime(int)` on each number starting from `2` up to `2000` if the number is prime then we sum that number to the variable `sum` which then is returned."
   ]
  },
  {
   "cell_type": "markdown",
   "metadata": {},
   "source": [
    "<br>\n",
    "<hr>\n",
    "<hr>\n",
    "<br>"
   ]
  },
  {
   "cell_type": "markdown",
   "metadata": {},
   "source": [
    "### Challenge 3: Multiples of 3 and 5\n",
    "If we list all of the natural numbers below 10 that are multiples of 3 or 5, we get 3, 5, 6, and 9. The sum of these multiples is 23. Find the sum of all the multiples of 3 and 5 below 1,000. Afterward, write a brief explanation walking through your code's logic in markdown."
   ]
  },
  {
   "cell_type": "code",
   "execution_count": 3,
   "metadata": {},
   "outputs": [],
   "source": [
    "def isitNatural(x):\n",
    "        if (x%3 == 0) or (x%5 == 0):\n",
    "            return True\n",
    "        return False\n",
    "\n",
    "def prime_sum():\n",
    "    sum = 0 ; \n",
    "    for i in range(3,1000):\n",
    "            if isitNatural(i):\n",
    "                sum = sum+i\n",
    "    return sum\n"
   ]
  },
  {
   "cell_type": "markdown",
   "metadata": {},
   "source": [
    "### Samller to the pravoise question, this code does the fowllowing :\n",
    "We loop from 3 up to 1000 if a number is a `Natural number ` then it's added to the `sum` variable which is then returned."
   ]
  },
  {
   "cell_type": "markdown",
   "metadata": {},
   "source": [
    "<br>\n",
    "<hr>\n",
    "<hr>\n",
    "<br>"
   ]
  },
  {
   "cell_type": "markdown",
   "metadata": {},
   "source": [
    "### Challenge 4: String Compressor\n",
    "Implement a method to perform basic string compression using the counts of repeated characters. (This is called run-length encoding.) For example, the string \"aabcccccaaa\" would become a2b1c5a3. If the “compressed” string would not become smaller than the original string, your method should return the original string. You can assume the string has only uppercase and lowercase letters (a–z). Specify whether your solution is case sensitive or case insensitive and what you would need to change to make it the other. Afterward, write a brief explanation walking through your code's logic in markdown."
   ]
  },
  {
   "cell_type": "code",
   "execution_count": 4,
   "metadata": {
    "scrolled": true
   },
   "outputs": [],
   "source": [
    "def compress(string):\n",
    "    res = \"\"\n",
    "    count = 1\n",
    "    res += string[0]\n",
    "\n",
    "    for i in range(len(string)-1):\n",
    "        if(string[i] == string[i+1]):\n",
    "            count+=1\n",
    "        else:\n",
    "            res += str(count)\n",
    "            res += string[i+1]\n",
    "            count = 1\n",
    "    if(count >= 1):\n",
    "        res += str(count)\n",
    "        \n",
    "    if (len(res)<len(string)):\n",
    "        return res\n",
    "    \n",
    "    return string\n",
    "    \n"
   ]
  },
  {
   "cell_type": "markdown",
   "metadata": {},
   "source": [
    "#### My soultion is case insensitive\n",
    "#### This code workes in these flowing steps:\n",
    "\n",
    "1. Define two main variable `counter` and `result.`\n",
    "2. Add to the string result the first character.\n",
    "3. Then, checking whether the next character is the same as the current character if this is `True,` increase the counter, if not add that value to the result, and restart the counter after adding it.\n",
    "4. in case of result length is smaller than the original string, return the result. otherwise, return the original string"
   ]
  },
  {
   "cell_type": "markdown",
   "metadata": {},
   "source": [
    "<br>\n",
    "<hr>\n",
    "<hr>\n",
    "<br>"
   ]
  },
  {
   "cell_type": "markdown",
   "metadata": {},
   "source": [
    "### *BONUS* Challenge: FizzBuzz\n",
    "Write a program that prints all of the numbers from 1 to 100. For multiples of 3, instead of the number, print \"Fizz;\" for multiples of 5, print \"Buzz.\" For numbers that are multiples of both 3 and 5, print \"FizzBuzz.\" Afterward, write a brief explanation walking through your code's logic in markdown."
   ]
  },
  {
   "cell_type": "code",
   "execution_count": 5,
   "metadata": {},
   "outputs": [],
   "source": [
    "def fizzbuzz():\n",
    "    for i in range(3,100):\n",
    "        if (i%3 == 0) and (i%5 == 0):\n",
    "            print(i , \"FizzBuzz\")\n",
    "        elif i%5 == 0:\n",
    "            print(i , \"Buzz\")\n",
    "        elif i%3 == 0:\n",
    "            print(i , \"Fizz\")\n",
    "\n"
   ]
  },
  {
   "cell_type": "markdown",
   "metadata": {},
   "source": [
    "Simple code, loop from `3` up to `100` checking for these cases:\n",
    "1. If the number is devisible for (3) and (5) Then it's `FizzBuzz`\n",
    "2. If the number is devisible for (5) Then it's `Buzz`\n",
    "3. If the number is devisible for (3) Then it's `Fizz`\n"
   ]
  }
 ],
 "metadata": {
  "anaconda-cloud": {},
  "kernelspec": {
   "display_name": "Python 3",
   "language": "python",
   "name": "python3"
  },
  "language_info": {
   "codemirror_mode": {
    "name": "ipython",
    "version": 3
   },
   "file_extension": ".py",
   "mimetype": "text/x-python",
   "name": "python",
   "nbconvert_exporter": "python",
   "pygments_lexer": "ipython3",
   "version": "3.6.5"
  }
 },
 "nbformat": 4,
 "nbformat_minor": 2
}
